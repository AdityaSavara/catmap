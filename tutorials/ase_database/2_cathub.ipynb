{
 "cells": [
  {
   "cell_type": "markdown",
   "metadata": {},
   "source": [
    "# Import data from Catalysishub.org for CatMAP\n",
    "\n",
    "In this tutorial we will\n",
    "    -   Download a set of formation energies from a publication and export them in a CatMAP EnergyLandscape object.\n",
    "    -   Create an ASE-db sqlite3 file containing the corresponding atomic structures."
   ]
  },
  {
   "cell_type": "code",
   "execution_count": null,
   "metadata": {},
   "outputs": [],
   "source": [
    "# Import modules.\n",
    "import os\n",
    "import ase.db\n",
    "from ase.visualize import view\n",
    "\n",
    "from catmap.api.cathub import CatalysisHub"
   ]
  },
  {
   "cell_type": "markdown",
   "metadata": {},
   "source": [
    "### Download formation energies.\n",
    "\n",
    "First we need to write a query for a publication."
   ]
  },
  {
   "cell_type": "code",
   "execution_count": null,
   "metadata": {},
   "outputs": [],
   "source": [
    "# Instantiate cathub interface object.\n",
    "cathub = CatalysisHub()\n",
    "\n",
    "# GraphQL search string to the publications table.\n",
    "publication = \"WO3 surface doping for OER to be published\""
   ]
  },
  {
   "cell_type": "markdown",
   "metadata": {},
   "source": [
    "Formation energies as used by CatMAP are simply reaction energies with respect to a fixed reference.\n",
    "Therefore, you only need to query for reactions from the relevant gas phase references, in order to download the relevant set of formation energies."
   ]
  },
  {
   "cell_type": "code",
   "execution_count": null,
   "metadata": {},
   "outputs": [],
   "source": [
    "# Choose your references.\n",
    "references = ['H2gas', 'H2Ogas']\n",
    "\n",
    "# Fetch energies and create an EnergyLandscape object.\n",
    "energy_landscape = cathub.publication_energy_landscape(publication, references, site_specific=True, limit=10)"
   ]
  },
  {
   "cell_type": "markdown",
   "metadata": {},
   "source": [
    "We have now retrieved a list of dictionaries, `reactions`. The reaction energies can be attached to a `catmap.api.energy_landscape` object as formation energies."
   ]
  },
  {
   "cell_type": "markdown",
   "metadata": {},
   "source": [
    "Finally, as usual, we export a CatMAP input file."
   ]
  },
  {
   "cell_type": "code",
   "execution_count": null,
   "metadata": {},
   "outputs": [],
   "source": [
    "fname = 'my_energies.txt'\n",
    "energy_landscape.make_input_file(fname)"
   ]
  },
  {
   "cell_type": "code",
   "execution_count": null,
   "metadata": {},
   "outputs": [],
   "source": [
    "# Take a peak at the file.\n",
    "with open(fname) as fp:\n",
    "    for line in fp.readlines()[:5]:\n",
    "        print(line)"
   ]
  },
  {
   "cell_type": "markdown",
   "metadata": {},
   "source": [
    "Notice the `reference` column contains catalysis-hub ids corresponding to the atomic structure."
   ]
  },
  {
   "cell_type": "markdown",
   "metadata": {},
   "source": [
    "### Atomic structures."
   ]
  },
  {
   "cell_type": "markdown",
   "metadata": {},
   "source": [
    "Next, we will retrieve atomic structures from the publication."
   ]
  },
  {
   "cell_type": "code",
   "execution_count": null,
   "metadata": {},
   "outputs": [],
   "source": [
    "# Return a list of atoms objects.\n",
    "images = cathub.get_publication_atoms(publication, limit=10)"
   ]
  },
  {
   "cell_type": "markdown",
   "metadata": {},
   "source": [
    "Finally, we can save them to an ase database, keeping the catalysis-hub ids, to connect them with the energy data file."
   ]
  },
  {
   "cell_type": "code",
   "execution_count": null,
   "metadata": {},
   "outputs": [],
   "source": [
    "# Save them to an ASE-db file.\n",
    "os.remove('my_asedb.db')\n",
    "c = ase.db.connect('my_asedb.db')\n",
    "\n",
    "for atoms in images:\n",
    "    c.write(atoms, key_value_pairs=atoms.info['key_value_pairs'])"
   ]
  }
 ],
 "metadata": {
  "kernelspec": {
   "display_name": "Python 3",
   "language": "python",
   "name": "python3"
  },
  "language_info": {
   "codemirror_mode": {
    "name": "ipython",
    "version": 3
   },
   "file_extension": ".py",
   "mimetype": "text/x-python",
   "name": "python",
   "nbconvert_exporter": "python",
   "pygments_lexer": "ipython3",
   "version": "3.6.4"
  }
 },
 "nbformat": 4,
 "nbformat_minor": 2
}
